{
 "cells": [
  {
   "cell_type": "markdown",
   "metadata": {},
   "source": [
    "### Questions 1:\n",
    "Given the following jumbled word, OBANWRI guess the correct English word.\n",
    "A. RANIBOW\n",
    "B. RAINBOW\n",
    "C. BOWRANI\n",
    "D. ROBWANI"
   ]
  },
  {
   "cell_type": "code",
   "execution_count": null,
   "metadata": {},
   "outputs": [],
   "source": [
    "B"
   ]
  },
  {
   "cell_type": "markdown",
   "metadata": {},
   "source": [
    "### Questions 2:\n",
    "Write a program which prints “LETS UPGRADE”. (Please note that you have to\n",
    "print in ALL CAPS as given)"
   ]
  },
  {
   "cell_type": "code",
   "execution_count": 1,
   "metadata": {},
   "outputs": [
    {
     "name": "stdout",
     "output_type": "stream",
     "text": [
      "LETS UPGRADE\n"
     ]
    }
   ],
   "source": [
    "print(\"LETS UPGRADE\")"
   ]
  },
  {
   "cell_type": "markdown",
   "metadata": {},
   "source": [
    "### Questions 3:\n",
    "Write a program that takes cost price and selling price as input and displays whether the transaction is a Profit or a Loss or Neither.\n",
    "INPUT FORMAT\n",
    "The first line contains the cost price.\n",
    "The second line contains the selling price.\n",
    "OUTPUT FORMAT\n",
    "Print \"Profit\" if the transaction is a profit or \"Loss\" if it is a loss. If it is neither\n",
    "profit nor loss, print \"Neither\". (You must not have quotes in your output)\n",
    "Please stick to the input and output format. Don't add anything extra like\n",
    "'Enter cost price', 'Enter selling price', etc."
   ]
  },
  {
   "cell_type": "code",
   "execution_count": 2,
   "metadata": {},
   "outputs": [
    {
     "name": "stdout",
     "output_type": "stream",
     "text": [
      "Enter Cost Price20\n",
      "Enter Selling Price30\n",
      "Profit\n"
     ]
    }
   ],
   "source": [
    "cost_price=int(input(\"Enter Cost Price\"))\n",
    "selling_price=int(input(\"Enter Selling Price\"))\n",
    "if(cost_price<selling_price):\n",
    "    transaction=\"Profit\"\n",
    "elif(cost_price==selling_price):\n",
    "    transaction=\"Neither\"\n",
    "else:\n",
    "    transaction=\"Loss\"\n",
    "print(transaction)"
   ]
  },
  {
   "cell_type": "markdown",
   "metadata": {},
   "source": [
    "### Questions 4:\n",
    "Write a program that takes an amount in Euros as input. You need to find its equivalent in\n",
    "Rupees and display it. Assume 1 Euro equals Rs. 80.\n",
    "Please note that you are expected to stick to the given input and output\n",
    "format as in sample test cases. Please don't add any extra lines such as\n",
    "'Enter a number', etc.\n",
    "Your program should take only one number as input and display the output."
   ]
  },
  {
   "cell_type": "code",
   "execution_count": 3,
   "metadata": {},
   "outputs": [
    {
     "name": "stdout",
     "output_type": "stream",
     "text": [
      "Enter a number20\n",
      "1600\n"
     ]
    }
   ],
   "source": [
    "Euros=int(input(\"Enter a number\"))\n",
    "equivalent_rupees=Euros*80\n",
    "print(equivalent_rupees)"
   ]
  },
  {
   "cell_type": "code",
   "execution_count": null,
   "metadata": {},
   "outputs": [],
   "source": []
  }
 ],
 "metadata": {
  "kernelspec": {
   "display_name": "Python 3",
   "language": "python",
   "name": "python3"
  },
  "language_info": {
   "codemirror_mode": {
    "name": "ipython",
    "version": 3
   },
   "file_extension": ".py",
   "mimetype": "text/x-python",
   "name": "python",
   "nbconvert_exporter": "python",
   "pygments_lexer": "ipython3",
   "version": "3.8.3"
  }
 },
 "nbformat": 4,
 "nbformat_minor": 4
}
